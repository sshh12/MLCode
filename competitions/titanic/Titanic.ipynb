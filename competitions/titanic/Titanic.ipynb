{
 "cells": [
  {
   "cell_type": "markdown",
   "metadata": {},
   "source": [
    "# Titanic"
   ]
  },
  {
   "cell_type": "code",
   "execution_count": 1,
   "metadata": {},
   "outputs": [],
   "source": [
    "# DATA LIB\n",
    "import pandas as pd\n",
    "import numpy as np\n",
    "import sklearn as sk\n",
    "\n",
    "# TOOLS\n",
    "import os\n",
    "import re\n",
    "\n",
    "# VISUALS\n",
    "import seaborn as sns\n",
    "import matplotlib.pyplot as plt\n",
    "%matplotlib inline\n",
    "\n",
    "# MISC\n",
    "import warnings\n",
    "warnings.filterwarnings('ignore')"
   ]
  },
  {
   "cell_type": "code",
   "execution_count": 2,
   "metadata": {},
   "outputs": [],
   "source": [
    "# Load Data\n",
    "df_train = pd.read_csv('~/.kaggle/competitions/titanic/train.csv')\n",
    "df_test = pd.read_csv('~/.kaggle/competitions/titanic/test.csv')\n",
    "df_all = pd.concat([df_train, df_test])\n"
   ]
  },
  {
   "cell_type": "code",
   "execution_count": 3,
   "metadata": {},
   "outputs": [
    {
     "data": {
      "text/html": [
       "<div>\n",
       "<table border=\"1\" class=\"dataframe\">\n",
       "  <thead>\n",
       "    <tr style=\"text-align: right;\">\n",
       "      <th></th>\n",
       "      <th>Age</th>\n",
       "      <th>Cabin</th>\n",
       "      <th>Embarked</th>\n",
       "      <th>Fare</th>\n",
       "      <th>Name</th>\n",
       "      <th>Parch</th>\n",
       "      <th>PassengerId</th>\n",
       "      <th>Pclass</th>\n",
       "      <th>Sex</th>\n",
       "      <th>SibSp</th>\n",
       "      <th>Survived</th>\n",
       "      <th>Ticket</th>\n",
       "    </tr>\n",
       "  </thead>\n",
       "  <tbody>\n",
       "    <tr>\n",
       "      <th>0</th>\n",
       "      <td>22.0</td>\n",
       "      <td>NaN</td>\n",
       "      <td>S</td>\n",
       "      <td>7.2500</td>\n",
       "      <td>Braund, Mr. Owen Harris</td>\n",
       "      <td>0</td>\n",
       "      <td>1</td>\n",
       "      <td>3</td>\n",
       "      <td>male</td>\n",
       "      <td>1</td>\n",
       "      <td>0.0</td>\n",
       "      <td>A/5 21171</td>\n",
       "    </tr>\n",
       "    <tr>\n",
       "      <th>1</th>\n",
       "      <td>38.0</td>\n",
       "      <td>C85</td>\n",
       "      <td>C</td>\n",
       "      <td>71.2833</td>\n",
       "      <td>Cumings, Mrs. John Bradley (Florence Briggs Th...</td>\n",
       "      <td>0</td>\n",
       "      <td>2</td>\n",
       "      <td>1</td>\n",
       "      <td>female</td>\n",
       "      <td>1</td>\n",
       "      <td>1.0</td>\n",
       "      <td>PC 17599</td>\n",
       "    </tr>\n",
       "    <tr>\n",
       "      <th>2</th>\n",
       "      <td>26.0</td>\n",
       "      <td>NaN</td>\n",
       "      <td>S</td>\n",
       "      <td>7.9250</td>\n",
       "      <td>Heikkinen, Miss. Laina</td>\n",
       "      <td>0</td>\n",
       "      <td>3</td>\n",
       "      <td>3</td>\n",
       "      <td>female</td>\n",
       "      <td>0</td>\n",
       "      <td>1.0</td>\n",
       "      <td>STON/O2. 3101282</td>\n",
       "    </tr>\n",
       "    <tr>\n",
       "      <th>3</th>\n",
       "      <td>35.0</td>\n",
       "      <td>C123</td>\n",
       "      <td>S</td>\n",
       "      <td>53.1000</td>\n",
       "      <td>Futrelle, Mrs. Jacques Heath (Lily May Peel)</td>\n",
       "      <td>0</td>\n",
       "      <td>4</td>\n",
       "      <td>1</td>\n",
       "      <td>female</td>\n",
       "      <td>1</td>\n",
       "      <td>1.0</td>\n",
       "      <td>113803</td>\n",
       "    </tr>\n",
       "    <tr>\n",
       "      <th>4</th>\n",
       "      <td>35.0</td>\n",
       "      <td>NaN</td>\n",
       "      <td>S</td>\n",
       "      <td>8.0500</td>\n",
       "      <td>Allen, Mr. William Henry</td>\n",
       "      <td>0</td>\n",
       "      <td>5</td>\n",
       "      <td>3</td>\n",
       "      <td>male</td>\n",
       "      <td>0</td>\n",
       "      <td>0.0</td>\n",
       "      <td>373450</td>\n",
       "    </tr>\n",
       "  </tbody>\n",
       "</table>\n",
       "</div>"
      ],
      "text/plain": [
       "    Age Cabin Embarked     Fare  \\\n",
       "0  22.0   NaN        S   7.2500   \n",
       "1  38.0   C85        C  71.2833   \n",
       "2  26.0   NaN        S   7.9250   \n",
       "3  35.0  C123        S  53.1000   \n",
       "4  35.0   NaN        S   8.0500   \n",
       "\n",
       "                                                Name  Parch  PassengerId  \\\n",
       "0                            Braund, Mr. Owen Harris      0            1   \n",
       "1  Cumings, Mrs. John Bradley (Florence Briggs Th...      0            2   \n",
       "2                             Heikkinen, Miss. Laina      0            3   \n",
       "3       Futrelle, Mrs. Jacques Heath (Lily May Peel)      0            4   \n",
       "4                           Allen, Mr. William Henry      0            5   \n",
       "\n",
       "   Pclass     Sex  SibSp  Survived            Ticket  \n",
       "0       3    male      1       0.0         A/5 21171  \n",
       "1       1  female      1       1.0          PC 17599  \n",
       "2       3  female      0       1.0  STON/O2. 3101282  \n",
       "3       1  female      1       1.0            113803  \n",
       "4       3    male      0       0.0            373450  "
      ]
     },
     "execution_count": 3,
     "metadata": {},
     "output_type": "execute_result"
    }
   ],
   "source": [
    "# View Data\n",
    "df_all.head()"
   ]
  },
  {
   "cell_type": "code",
   "execution_count": 4,
   "metadata": {},
   "outputs": [
    {
     "data": {
      "image/png": "[encoded data removed]",
      "text/plain": [
       "<matplotlib.figure.Figure at 0x221b5929400>"
      ]
     },
     "metadata": {},
     "output_type": "display_data"
    }
   ],
   "source": [
    "# Age\n",
    "\n",
    "# Fill N/A w/fake data\n",
    "age_avg = df_all['Age'].mean()\n",
    "age_std = df_all['Age'].std()\n",
    "fake_ages = np.random.randint(age_avg - age_std, age_avg + age_std, size=df_all['Age'].isnull().sum())\n",
    "df_all['Age'][np.isnan(df_all['Age'])] = fake_ages\n",
    "df_all['Age'] = df_all['Age'].astype(int)\n",
    "\n",
    "# Bin Ages\n",
    "df_all['AgeBin'] = pd.cut(df_all['Age'], 5, labels=[0, 1, 2, 3, 4])\n",
    "\n",
    "# Plot\n",
    "_ = sns.distplot(df_all['Age'].astype(float))"
   ]
  },
  {
   "cell_type": "code",
   "execution_count": 5,
   "metadata": {},
   "outputs": [
    {
     "data": {
      "image/png": "[encoded data removed]",
      "text/plain": [
       "<matplotlib.figure.Figure at 0x221b901ebe0>"
      ]
     },
     "metadata": {},
     "output_type": "display_data"
    }
   ],
   "source": [
    "# Fare\n",
    "\n",
    "# Fill N/A\n",
    "df_all['Fare'] = df_all['Fare'].fillna(df_all['Fare'].median())\n",
    "\n",
    "# Bin Ages\n",
    "df_all['FareBin'] = pd.qcut(df_all['Fare'], 6, labels=[0, 1, 2, 3, 4, 5])\n",
    "\n",
    "# Plot\n",
    "_ = sns.distplot(df_all['Fare'].astype(float))"
   ]
  },
  {
   "cell_type": "code",
   "execution_count": null,
   "metadata": {},
   "outputs": [
    {
     "data": {
      "image/png": "[encoded data removed]",
      "text/plain": [
       "<matplotlib.figure.Figure at 0x221b5929160>"
      ]
     },
     "metadata": {},
     "output_type": "display_data"
    }
   ],
   "source": [
    "# Cabin\n",
    "\n",
    "# Cabin Prefix\n",
    "df_all['CabinLetter'] = df_all['Cabin'].apply(lambda x: 'X' if type(x) == float else x[0])\n",
    "cabin_dummies = pd.get_dummies(df_all['CabinLetter'], prefix='Cabin').astype(int)\n",
    "df_all = pd.concat([df_all, cabin_dummies], axis=1)\n",
    "\n",
    "# Plot Cabins\n",
    "_ = sns.countplot(df_all['CabinLetter'])"
   ]
  },
  {
   "cell_type": "code",
   "execution_count": null,
   "metadata": {},
   "outputs": [],
   "source": [
    "# Name\n",
    "\n",
    "# Title\n",
    "def extract_title(name):\n",
    "    \n",
    "    re_title = re.search(' ([A-Za-z]+)\\.', name)\n",
    "    \n",
    "    if not re_title:\n",
    "        return ''\n",
    "    else:\n",
    "        title = re_title.group(1)\n",
    "        \n",
    "    if title in ['Lady', 'Countess','Capt', 'Col', 'Don', 'Dr', 'Major', 'Rev', 'Sir', 'Jonkheer', 'Dona']:\n",
    "        return 'Fancy'\n",
    "    elif title in ['Mlle', 'Ms', 'Miss']:\n",
    "        return 'Miss'\n",
    "    elif title in ['Mme', 'Mrs']:\n",
    "        return 'Mrs'\n",
    "    else:\n",
    "        return title\n",
    "    \n",
    "df_all['Title'] = df_all['Name'].apply(extract_title)\n",
    "title_dummies = pd.get_dummies(df_all['Title'], prefix='Title').astype(int)\n",
    "df_all = pd.concat([df_all, title_dummies], axis=1)\n",
    "\n",
    "# Plot Title\n",
    "_ = sns.countplot(df_all['Title'])"
   ]
  },
  {
   "cell_type": "code",
   "execution_count": null,
   "metadata": {},
   "outputs": [],
   "source": [
    "# Ticket\n",
    "\n",
    "# Ticket Prefix\n",
    "def extract_prefix(ticket):\n",
    "    \n",
    "    re_ticket = re.search('([\\w/\\.]+) \\d+', ticket)\n",
    "    \n",
    "    if not re_ticket:\n",
    "        return ''\n",
    "    else:\n",
    "        prefix = re_ticket.group(1)\n",
    "        \n",
    "    return prefix.strip().replace(\"/\", \"\").replace(\".\", \"\")\n",
    "\n",
    "df_all['TicketPrefix'] = df_all['Ticket'].apply(extract_prefix)\n",
    "df_all['TicketHasPrefix'] = df_all['TicketPrefix'].apply(lambda x: 0 if x == \"\" else 1)\n",
    "\n",
    "# Plot Ticket\n",
    "_ = sns.countplot(df_all['TicketHasPrefix'])"
   ]
  },
  {
   "cell_type": "code",
   "execution_count": null,
   "metadata": {},
   "outputs": [],
   "source": [
    "# Embarked\n",
    "\n",
    "# Fix Missing\n",
    "df_all['Embarked'] = df_all['Embarked'].fillna(df_all['Embarked'].mode())\n",
    "\n",
    "# Dummy Vars\n",
    "embark_dummies = pd.get_dummies(df_all['Embarked'], prefix='Embark').astype(int)\n",
    "df_all = pd.concat([df_all, embark_dummies], axis=1)\n",
    "\n",
    "# Plot Embark\n",
    "_ = sns.countplot(df_all['Embarked'])"
   ]
  },
  {
   "cell_type": "code",
   "execution_count": null,
   "metadata": {},
   "outputs": [],
   "source": [
    "# Sex\n",
    "\n",
    "# Map to 0/1\n",
    "df_all['SexType'] = df_all['Sex'].map({'female': 0, 'male': 1}).astype(int)\n",
    "\n",
    "# Plot Sex\n",
    "_ = sns.countplot(df_all['Sex'])"
   ]
  },
  {
   "cell_type": "code",
   "execution_count": null,
   "metadata": {},
   "outputs": [],
   "source": [
    "# Pclass and SibSp\n",
    "\n",
    "# Traveling Party\n",
    "df_all['Party'] = df_all['SibSp'] + df_all['Parch']\n",
    "\n",
    "# Plot Party\n",
    "_ = sns.countplot(df_all['Party'])"
   ]
  },
  {
   "cell_type": "code",
   "execution_count": null,
   "metadata": {},
   "outputs": [],
   "source": [
    "# Drop Extra Columns\n",
    "\n",
    "drop_cols = ['PassengerId', 'Age', 'Cabin', 'CabinLetter', 'Embarked', 'Sex', 'Fare', 'Name', 'Title', 'Ticket', 'TicketPrefix']\n",
    "df_feat = df_all.drop(drop_cols, axis=1)"
   ]
  },
  {
   "cell_type": "code",
   "execution_count": null,
   "metadata": {
    "scrolled": false
   },
   "outputs": [],
   "source": [
    "# Show Correlation\n",
    "\n",
    "plt.figure(figsize=(16,14))\n",
    "_ = sns.heatmap(df_feat.corr(), cmap=plt.cm.RdBu, linewidths=0.1, vmin=-1.0, vmax=1.0, annot=True)"
   ]
  },
  {
   "cell_type": "code",
   "execution_count": null,
   "metadata": {},
   "outputs": [],
   "source": [
    "# Split/Process Data\n",
    "\n",
    "num_train = len(df_train)\n",
    "\n",
    "x_cols = ['Parch', 'Pclass', 'SibSp', 'AgeBin', 'FareBin', 'Cabin_A',\n",
    "           'Cabin_B', 'Cabin_C', 'Cabin_D', 'Cabin_E', 'Cabin_F', 'Cabin_G',\n",
    "           'Cabin_T', 'Cabin_X', 'Title_Fancy', 'Title_Master',\n",
    "           'Title_Miss', 'Title_Mr', 'Title_Mrs', 'TicketHasPrefix', 'Embark_C',\n",
    "           'Embark_Q', 'Embark_S', 'SexType', 'Party']\n",
    "\n",
    "x_all = df_feat[x_cols].as_matrix()\n",
    "y_all = df_feat['Survived'].as_matrix()\n",
    "\n",
    "X_train, X_test = x_all[:num_train], x_all[num_train:]\n",
    "Y_train = y_all[:num_train]\n"
   ]
  },
  {
   "cell_type": "code",
   "execution_count": null,
   "metadata": {},
   "outputs": [],
   "source": [
    "# Model\n",
    "\n",
    "from sklearn.ensemble import RandomForestClassifier\n",
    "\n",
    "clf = RandomForestClassifier(n_estimators=100)\n",
    "clf.fit(X_train, Y_train)\n",
    "clf.score(X_train, Y_train)"
   ]
  },
  {
   "cell_type": "code",
   "execution_count": null,
   "metadata": {},
   "outputs": [],
   "source": [
    "# Save Results\n",
    "\n",
    "survived = pd.Series(clf.predict(X_test), name=\"Survived\")\n",
    "\n",
    "output = pd.concat([df_test['PassengerId'], survived], axis=1)\n",
    "output.to_csv(\"first_attempt.csv\", index=False)"
   ]
  }
 ],
 "metadata": {
  "kernelspec": {
   "display_name": "Python [conda env:tf-cpu]",
   "language": "python",
   "name": "conda-env-tf-cpu-py"
  },
  "language_info": {
   "codemirror_mode": {
    "name": "ipython",
    "version": 3
   },
   "file_extension": ".py",
   "mimetype": "text/x-python",
   "name": "python",
   "nbconvert_exporter": "python",
   "pygments_lexer": "ipython3",
   "version": "3.5.4"
  }
 },
 "nbformat": 4,
 "nbformat_minor": 2
}
